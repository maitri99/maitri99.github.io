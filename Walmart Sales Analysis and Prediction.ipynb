{
 "cells": [
  {
   "cell_type": "markdown",
   "metadata": {},
   "source": [
    "# Maitri Patel\n",
    "\n",
    "## CSc 447- Intro to Machine Learning\n",
    "\n",
    "## Final Project- Walmart Sales Analysis and Prediction"
   ]
  },
  {
   "cell_type": "markdown",
   "metadata": {},
   "source": [
    "For my project, I am going to analyze and predict sales patterns of one of the leading retail corporations - Walmart. The dataset has been retrieved from Kaggle and ranges from 2010 to 2012. While researching, I came to know that as a part of recent recruiting effort, Walmart released anonymized weekly sales data of 45 stores located in different regions and asked the candidates to predict future sales. Since it was anonymized, we don't have a proper address for any stores and hence we will address the stores numerically throughout the project. The dataset contains information about the stores, temperature, unemployment, CPI, Holiday, fuel price, and Weekly sales.\n",
    "\n",
    "The purpose of this project is to show how simple Machine Learning algorithms can forecast the sales which can help avoid the challenges like running out of stock due to unforeseen demands.\n",
    "\n",
    "First I'll import the necessary packages, along with downloading and cleaning the data.\n"
   ]
  },
  {
   "cell_type": "code",
   "execution_count": 366,
   "metadata": {},
   "outputs": [],
   "source": [
    "import csv\n",
    "import numpy as np \n",
    "import pandas as pd\n",
    "from pandas import DataFrame\n",
    "import matplotlib.pyplot as plt\n",
    "import matplotlib.patches as mpatches\n",
    "%matplotlib inline\n",
    "from matplotlib import style\n",
    "style.use('ggplot')\n",
    "import seaborn as sns\n",
    "import math\n",
    "from sklearn.metrics import confusion_matrix, r2_score, mean_squared_error\n",
    "from sklearn.preprocessing import StandardScaler, MinMaxScaler\n",
    "from sklearn.model_selection import train_test_split, GridSearchCV\n",
    "from sklearn.linear_model import LogisticRegression, LinearRegression\n",
    "from sklearn.tree import DecisionTreeClassifier\n",
    "from sklearn.svm import SVC\n",
    "from scipy import stats\n",
    "from scipy.stats import probplot\n",
    "from statistics import mean, stdev\n",
    "from statsmodels.tsa.arima_model import ARIMA\n",
    "import datetime as dt\n",
    "from hpsklearn import HyperoptEstimator\n",
    "from hpsklearn import any_regressor\n",
    "from hpsklearn import any_preprocessing\n",
    "from hyperopt import tpe\n",
    "import plotly.express as px"
   ]
  },
  {
   "cell_type": "code",
   "execution_count": 367,
   "metadata": {
    "scrolled": true
   },
   "outputs": [
    {
     "data": {
      "text/html": [
       "<div>\n",
       "<style scoped>\n",
       "    .dataframe tbody tr th:only-of-type {\n",
       "        vertical-align: middle;\n",
       "    }\n",
       "\n",
       "    .dataframe tbody tr th {\n",
       "        vertical-align: top;\n",
       "    }\n",
       "\n",
       "    .dataframe thead th {\n",
       "        text-align: right;\n",
       "    }\n",
       "</style>\n",
       "<table border=\"1\" class=\"dataframe\">\n",
       "  <thead>\n",
       "    <tr style=\"text-align: right;\">\n",
       "      <th></th>\n",
       "      <th>Store</th>\n",
       "      <th>Date</th>\n",
       "      <th>Weekly_Sales</th>\n",
       "      <th>Holiday_Flag</th>\n",
       "      <th>Temperature</th>\n",
       "      <th>Fuel_Price</th>\n",
       "      <th>CPI</th>\n",
       "      <th>Unemployment</th>\n",
       "    </tr>\n",
       "  </thead>\n",
       "  <tbody>\n",
       "    <tr>\n",
       "      <th>0</th>\n",
       "      <td>1</td>\n",
       "      <td>5/2/2010</td>\n",
       "      <td>1643690.90</td>\n",
       "      <td>0</td>\n",
       "      <td>42.31</td>\n",
       "      <td>2.572</td>\n",
       "      <td>211.096358</td>\n",
       "      <td>8.106</td>\n",
       "    </tr>\n",
       "    <tr>\n",
       "      <th>1</th>\n",
       "      <td>1</td>\n",
       "      <td>12/2/2010</td>\n",
       "      <td>1641957.44</td>\n",
       "      <td>1</td>\n",
       "      <td>38.51</td>\n",
       "      <td>2.548</td>\n",
       "      <td>211.242170</td>\n",
       "      <td>8.106</td>\n",
       "    </tr>\n",
       "    <tr>\n",
       "      <th>2</th>\n",
       "      <td>1</td>\n",
       "      <td>19-02-2010</td>\n",
       "      <td>1611968.17</td>\n",
       "      <td>0</td>\n",
       "      <td>39.93</td>\n",
       "      <td>2.514</td>\n",
       "      <td>211.289143</td>\n",
       "      <td>8.106</td>\n",
       "    </tr>\n",
       "    <tr>\n",
       "      <th>3</th>\n",
       "      <td>1</td>\n",
       "      <td>26-02-2010</td>\n",
       "      <td>1409727.59</td>\n",
       "      <td>0</td>\n",
       "      <td>46.63</td>\n",
       "      <td>2.561</td>\n",
       "      <td>211.319643</td>\n",
       "      <td>8.106</td>\n",
       "    </tr>\n",
       "    <tr>\n",
       "      <th>4</th>\n",
       "      <td>1</td>\n",
       "      <td>5/3/2010</td>\n",
       "      <td>1554806.68</td>\n",
       "      <td>0</td>\n",
       "      <td>46.50</td>\n",
       "      <td>2.625</td>\n",
       "      <td>211.350143</td>\n",
       "      <td>8.106</td>\n",
       "    </tr>\n",
       "    <tr>\n",
       "      <th>...</th>\n",
       "      <td>...</td>\n",
       "      <td>...</td>\n",
       "      <td>...</td>\n",
       "      <td>...</td>\n",
       "      <td>...</td>\n",
       "      <td>...</td>\n",
       "      <td>...</td>\n",
       "      <td>...</td>\n",
       "    </tr>\n",
       "    <tr>\n",
       "      <th>6430</th>\n",
       "      <td>45</td>\n",
       "      <td>28-09-2012</td>\n",
       "      <td>713173.95</td>\n",
       "      <td>0</td>\n",
       "      <td>64.88</td>\n",
       "      <td>3.997</td>\n",
       "      <td>192.013558</td>\n",
       "      <td>8.684</td>\n",
       "    </tr>\n",
       "    <tr>\n",
       "      <th>6431</th>\n",
       "      <td>45</td>\n",
       "      <td>5/10/2012</td>\n",
       "      <td>733455.07</td>\n",
       "      <td>0</td>\n",
       "      <td>64.89</td>\n",
       "      <td>3.985</td>\n",
       "      <td>192.170412</td>\n",
       "      <td>8.667</td>\n",
       "    </tr>\n",
       "    <tr>\n",
       "      <th>6432</th>\n",
       "      <td>45</td>\n",
       "      <td>12/10/2012</td>\n",
       "      <td>734464.36</td>\n",
       "      <td>0</td>\n",
       "      <td>54.47</td>\n",
       "      <td>4.000</td>\n",
       "      <td>192.327265</td>\n",
       "      <td>8.667</td>\n",
       "    </tr>\n",
       "    <tr>\n",
       "      <th>6433</th>\n",
       "      <td>45</td>\n",
       "      <td>19-10-2012</td>\n",
       "      <td>718125.53</td>\n",
       "      <td>0</td>\n",
       "      <td>56.47</td>\n",
       "      <td>3.969</td>\n",
       "      <td>192.330854</td>\n",
       "      <td>8.667</td>\n",
       "    </tr>\n",
       "    <tr>\n",
       "      <th>6434</th>\n",
       "      <td>45</td>\n",
       "      <td>26-10-2012</td>\n",
       "      <td>760281.43</td>\n",
       "      <td>0</td>\n",
       "      <td>58.85</td>\n",
       "      <td>3.882</td>\n",
       "      <td>192.308899</td>\n",
       "      <td>8.667</td>\n",
       "    </tr>\n",
       "  </tbody>\n",
       "</table>\n",
       "<p>6435 rows × 8 columns</p>\n",
       "</div>"
      ],
      "text/plain": [
       "      Store        Date  Weekly_Sales  Holiday_Flag  Temperature  Fuel_Price  \\\n",
       "0         1    5/2/2010    1643690.90             0        42.31       2.572   \n",
       "1         1   12/2/2010    1641957.44             1        38.51       2.548   \n",
       "2         1  19-02-2010    1611968.17             0        39.93       2.514   \n",
       "3         1  26-02-2010    1409727.59             0        46.63       2.561   \n",
       "4         1    5/3/2010    1554806.68             0        46.50       2.625   \n",
       "...     ...         ...           ...           ...          ...         ...   \n",
       "6430     45  28-09-2012     713173.95             0        64.88       3.997   \n",
       "6431     45   5/10/2012     733455.07             0        64.89       3.985   \n",
       "6432     45  12/10/2012     734464.36             0        54.47       4.000   \n",
       "6433     45  19-10-2012     718125.53             0        56.47       3.969   \n",
       "6434     45  26-10-2012     760281.43             0        58.85       3.882   \n",
       "\n",
       "             CPI  Unemployment  \n",
       "0     211.096358         8.106  \n",
       "1     211.242170         8.106  \n",
       "2     211.289143         8.106  \n",
       "3     211.319643         8.106  \n",
       "4     211.350143         8.106  \n",
       "...          ...           ...  \n",
       "6430  192.013558         8.684  \n",
       "6431  192.170412         8.667  \n",
       "6432  192.327265         8.667  \n",
       "6433  192.330854         8.667  \n",
       "6434  192.308899         8.667  \n",
       "\n",
       "[6435 rows x 8 columns]"
      ]
     },
     "execution_count": 367,
     "metadata": {},
     "output_type": "execute_result"
    }
   ],
   "source": [
    "df = pd.read_csv(r\"C:\\Users\\mpate\\OneDrive\\Desktop\\CSC44700\\archive\\Walmart_Store_sales.csv\")\n",
    "df "
   ]
  },
  {
   "cell_type": "markdown",
   "metadata": {},
   "source": [
    "# Cleaning the Data"
   ]
  },
  {
   "cell_type": "code",
   "execution_count": 255,
   "metadata": {
    "scrolled": true
   },
   "outputs": [
    {
     "name": "stdout",
     "output_type": "stream",
     "text": [
      "<class 'pandas.core.frame.DataFrame'>\n",
      "RangeIndex: 6435 entries, 0 to 6434\n",
      "Data columns (total 8 columns):\n",
      " #   Column        Non-Null Count  Dtype  \n",
      "---  ------        --------------  -----  \n",
      " 0   Store         6435 non-null   int64  \n",
      " 1   Date          6435 non-null   object \n",
      " 2   Weekly_Sales  6435 non-null   float64\n",
      " 3   Holiday_Flag  6435 non-null   int64  \n",
      " 4   Temperature   6435 non-null   float64\n",
      " 5   Fuel_Price    6435 non-null   float64\n",
      " 6   CPI           6435 non-null   float64\n",
      " 7   Unemployment  6435 non-null   float64\n",
      "dtypes: float64(5), int64(2), object(1)\n",
      "memory usage: 402.3+ KB\n"
     ]
    }
   ],
   "source": [
    "df.info()"
   ]
  },
  {
   "cell_type": "markdown",
   "metadata": {},
   "source": [
    "All the columns are in numerical type."
   ]
  },
  {
   "cell_type": "code",
   "execution_count": 59,
   "metadata": {},
   "outputs": [
    {
     "data": {
      "text/plain": [
       "Store           0\n",
       "Date            0\n",
       "Weekly_Sales    0\n",
       "Holiday_Flag    0\n",
       "Temperature     0\n",
       "Fuel_Price      0\n",
       "CPI             0\n",
       "Unemployment    0\n",
       "dtype: int64"
      ]
     },
     "execution_count": 59,
     "metadata": {},
     "output_type": "execute_result"
    }
   ],
   "source": [
    "# checking to see if there are any null values\n",
    "df.isnull().sum()"
   ]
  },
  {
   "cell_type": "markdown",
   "metadata": {},
   "source": [
    "There are no missing values in the dataset so we won't need to drop any values!"
   ]
  },
  {
   "cell_type": "markdown",
   "metadata": {},
   "source": [
    "# Exploratory Analyses"
   ]
  },
  {
   "cell_type": "code",
   "execution_count": 256,
   "metadata": {},
   "outputs": [
    {
     "data": {
      "text/html": [
       "<div>\n",
       "<style scoped>\n",
       "    .dataframe tbody tr th:only-of-type {\n",
       "        vertical-align: middle;\n",
       "    }\n",
       "\n",
       "    .dataframe tbody tr th {\n",
       "        vertical-align: top;\n",
       "    }\n",
       "\n",
       "    .dataframe thead th {\n",
       "        text-align: right;\n",
       "    }\n",
       "</style>\n",
       "<table border=\"1\" class=\"dataframe\">\n",
       "  <thead>\n",
       "    <tr style=\"text-align: right;\">\n",
       "      <th></th>\n",
       "      <th>Store</th>\n",
       "      <th>Weekly_Sales</th>\n",
       "      <th>Holiday_Flag</th>\n",
       "      <th>Temperature</th>\n",
       "      <th>Fuel_Price</th>\n",
       "      <th>CPI</th>\n",
       "      <th>Unemployment</th>\n",
       "    </tr>\n",
       "  </thead>\n",
       "  <tbody>\n",
       "    <tr>\n",
       "      <th>count</th>\n",
       "      <td>6435.000000</td>\n",
       "      <td>6.435000e+03</td>\n",
       "      <td>6435.000000</td>\n",
       "      <td>6435.000000</td>\n",
       "      <td>6435.000000</td>\n",
       "      <td>6435.000000</td>\n",
       "      <td>6435.000000</td>\n",
       "    </tr>\n",
       "    <tr>\n",
       "      <th>mean</th>\n",
       "      <td>23.000000</td>\n",
       "      <td>1.046965e+06</td>\n",
       "      <td>0.069930</td>\n",
       "      <td>60.663782</td>\n",
       "      <td>3.358607</td>\n",
       "      <td>171.578394</td>\n",
       "      <td>7.999151</td>\n",
       "    </tr>\n",
       "    <tr>\n",
       "      <th>std</th>\n",
       "      <td>12.988182</td>\n",
       "      <td>5.643666e+05</td>\n",
       "      <td>0.255049</td>\n",
       "      <td>18.444933</td>\n",
       "      <td>0.459020</td>\n",
       "      <td>39.356712</td>\n",
       "      <td>1.875885</td>\n",
       "    </tr>\n",
       "    <tr>\n",
       "      <th>min</th>\n",
       "      <td>1.000000</td>\n",
       "      <td>2.099862e+05</td>\n",
       "      <td>0.000000</td>\n",
       "      <td>-2.060000</td>\n",
       "      <td>2.472000</td>\n",
       "      <td>126.064000</td>\n",
       "      <td>3.879000</td>\n",
       "    </tr>\n",
       "    <tr>\n",
       "      <th>25%</th>\n",
       "      <td>12.000000</td>\n",
       "      <td>5.533501e+05</td>\n",
       "      <td>0.000000</td>\n",
       "      <td>47.460000</td>\n",
       "      <td>2.933000</td>\n",
       "      <td>131.735000</td>\n",
       "      <td>6.891000</td>\n",
       "    </tr>\n",
       "    <tr>\n",
       "      <th>50%</th>\n",
       "      <td>23.000000</td>\n",
       "      <td>9.607460e+05</td>\n",
       "      <td>0.000000</td>\n",
       "      <td>62.670000</td>\n",
       "      <td>3.445000</td>\n",
       "      <td>182.616521</td>\n",
       "      <td>7.874000</td>\n",
       "    </tr>\n",
       "    <tr>\n",
       "      <th>75%</th>\n",
       "      <td>34.000000</td>\n",
       "      <td>1.420159e+06</td>\n",
       "      <td>0.000000</td>\n",
       "      <td>74.940000</td>\n",
       "      <td>3.735000</td>\n",
       "      <td>212.743293</td>\n",
       "      <td>8.622000</td>\n",
       "    </tr>\n",
       "    <tr>\n",
       "      <th>max</th>\n",
       "      <td>45.000000</td>\n",
       "      <td>3.818686e+06</td>\n",
       "      <td>1.000000</td>\n",
       "      <td>100.140000</td>\n",
       "      <td>4.468000</td>\n",
       "      <td>227.232807</td>\n",
       "      <td>14.313000</td>\n",
       "    </tr>\n",
       "  </tbody>\n",
       "</table>\n",
       "</div>"
      ],
      "text/plain": [
       "             Store  Weekly_Sales  Holiday_Flag  Temperature   Fuel_Price  \\\n",
       "count  6435.000000  6.435000e+03   6435.000000  6435.000000  6435.000000   \n",
       "mean     23.000000  1.046965e+06      0.069930    60.663782     3.358607   \n",
       "std      12.988182  5.643666e+05      0.255049    18.444933     0.459020   \n",
       "min       1.000000  2.099862e+05      0.000000    -2.060000     2.472000   \n",
       "25%      12.000000  5.533501e+05      0.000000    47.460000     2.933000   \n",
       "50%      23.000000  9.607460e+05      0.000000    62.670000     3.445000   \n",
       "75%      34.000000  1.420159e+06      0.000000    74.940000     3.735000   \n",
       "max      45.000000  3.818686e+06      1.000000   100.140000     4.468000   \n",
       "\n",
       "               CPI  Unemployment  \n",
       "count  6435.000000   6435.000000  \n",
       "mean    171.578394      7.999151  \n",
       "std      39.356712      1.875885  \n",
       "min     126.064000      3.879000  \n",
       "25%     131.735000      6.891000  \n",
       "50%     182.616521      7.874000  \n",
       "75%     212.743293      8.622000  \n",
       "max     227.232807     14.313000  "
      ]
     },
     "execution_count": 256,
     "metadata": {},
     "output_type": "execute_result"
    }
   ],
   "source": [
    "# to calculate some statistical data like percentile, mean and std of the dataframe\n",
    "df.describe()"
   ]
  },
  {
   "cell_type": "code",
   "execution_count": 124,
   "metadata": {},
   "outputs": [
    {
     "data": {
      "text/plain": [
       "{'whiskers': [<matplotlib.lines.Line2D at 0x1caa5834220>,\n",
       "  <matplotlib.lines.Line2D at 0x1caa5834580>],\n",
       " 'caps': [<matplotlib.lines.Line2D at 0x1caa58348e0>,\n",
       "  <matplotlib.lines.Line2D at 0x1caa5834c40>],\n",
       " 'boxes': [<matplotlib.lines.Line2D at 0x1caa5827e80>],\n",
       " 'medians': [<matplotlib.lines.Line2D at 0x1caa5834fa0>],\n",
       " 'fliers': [<matplotlib.lines.Line2D at 0x1caa583c2e0>],\n",
       " 'means': []}"
      ]
     },
     "execution_count": 124,
     "metadata": {},
     "output_type": "execute_result"
    },
    {
     "data": {
      "image/png": "[encoded data removed]",
      "text/plain": [
       "<Figure size 360x360 with 1 Axes>"
      ]
     },
     "metadata": {},
     "output_type": "display_data"
    }
   ],
   "source": [
    "#Plot a Boxplot to see where the most concentration of the weekly sales lie and to see if there are any outliers\n",
    "fig = plt.figure(figsize=(5,5))\n",
    "plt.boxplot(df['Weekly_Sales'])"
   ]
  },
  {
   "cell_type": "code",
   "execution_count": 62,
   "metadata": {},
   "outputs": [
    {
     "data": {
      "text/plain": [
       "2720371.4924999997"
      ]
     },
     "execution_count": 62,
     "metadata": {},
     "output_type": "execute_result"
    }
   ],
   "source": [
    "#anything above this are the outliers\n",
    "np.percentile(df['Weekly_Sales'], q=75) + (np.percentile(df['Weekly_Sales'], q=75) - np.percentile(df['Weekly_Sales'], q=25)) * 1.5"
   ]
  },
  {
   "cell_type": "code",
   "execution_count": 63,
   "metadata": {
    "scrolled": true
   },
   "outputs": [
    {
     "name": "stdout",
     "output_type": "stream",
     "text": [
      "189     True\n",
      "241     True\n",
      "471     True\n",
      "474     True\n",
      "475     True\n",
      "523     True\n",
      "526     True\n",
      "527     True\n",
      "761     True\n",
      "1329    True\n",
      "1332    True\n",
      "1333    True\n",
      "1381    True\n",
      "1385    True\n",
      "1758    True\n",
      "1761    True\n",
      "1762    True\n",
      "1810    True\n",
      "1813    True\n",
      "1814    True\n",
      "1901    True\n",
      "1904    True\n",
      "1905    True\n",
      "1957    True\n",
      "2759    True\n",
      "2761    True\n",
      "2762    True\n",
      "2763    True\n",
      "2811    True\n",
      "2814    True\n",
      "2815    True\n",
      "3192    True\n",
      "3764    True\n",
      "3816    True\n",
      "Name: Weekly_Sales, dtype: bool\n",
      "Number of stores as outliers 34\n"
     ]
    }
   ],
   "source": [
    "b = df['Weekly_Sales'] > 2720371.4924999997\n",
    "a = b[b == True]\n",
    "print (a)\n",
    "print (\"Number of stores as outliers\" , len(a))"
   ]
  },
  {
   "cell_type": "markdown",
   "metadata": {},
   "source": [
    "From the boxplot, we can see that there are 34 stores out of 6435 whose weekly sales were above 75th percentile. Hence we can say that did exceptionally well in terms of sales."
   ]
  },
  {
   "cell_type": "code",
   "execution_count": 64,
   "metadata": {},
   "outputs": [
    {
     "data": {
      "text/plain": [
       "-746862.7275"
      ]
     },
     "execution_count": 64,
     "metadata": {},
     "output_type": "execute_result"
    }
   ],
   "source": [
    "#anything below this is an outlier\n",
    "np.percentile(df['Weekly_Sales'], q=25) - (np.percentile(df['Weekly_Sales'], q=75) - np.percentile(df['Weekly_Sales'], q=25)) * 1.5"
   ]
  },
  {
   "cell_type": "markdown",
   "metadata": {},
   "source": [
    "Any store which has weekly sales below this number would have undergone extremely poor sales. But we don't have any such store !"
   ]
  },
  {
   "cell_type": "markdown",
   "metadata": {},
   "source": [
    "### Which store has maximum sales?"
   ]
  },
  {
   "cell_type": "code",
   "execution_count": 320,
   "metadata": {},
   "outputs": [
    {
     "data": {
      "text/plain": [
       "Store\n",
       "14    3818686.45\n",
       "20    3766687.43\n",
       "10    3749057.69\n",
       "4     3676388.98\n",
       "13    3595903.20\n",
       "Name: Weekly_Sales, dtype: float64"
      ]
     },
     "execution_count": 320,
     "metadata": {},
     "output_type": "execute_result"
    }
   ],
   "source": [
    "df.groupby('Store')['Weekly_Sales'].max().sort_values(ascending=False).head()"
   ]
  },
  {
   "cell_type": "markdown",
   "metadata": {},
   "source": [
    "Store 14 has maximum weekly sales."
   ]
  },
  {
   "cell_type": "markdown",
   "metadata": {},
   "source": [
    "### Let's see which Store has maximum deviations in weekly sales?"
   ]
  },
  {
   "cell_type": "code",
   "execution_count": 126,
   "metadata": {},
   "outputs": [
    {
     "name": "stdout",
     "output_type": "stream",
     "text": [
      "Store with maximum standard deviation: Store 14\n"
     ]
    }
   ],
   "source": [
    "std_devs = []\n",
    "total_stores = df['Store'].nunique()\n",
    "for store in range(1,int(total_stores)+1):\n",
    "    values = df[df['Store']==store]['Weekly_Sales'].values\n",
    "    sd = np.std(values)\n",
    "    std_devs.append(sd)\n",
    "    \n",
    "max_std_dev = max(std_devs)\n",
    "print(\"Store with maximum standard deviation: Store\",std_devs.index(max_std_dev)+1)"
   ]
  },
  {
   "cell_type": "markdown",
   "metadata": {},
   "source": [
    "### Which store has good quarterly growth rate in Q3’2012?"
   ]
  },
  {
   "cell_type": "code",
   "execution_count": 128,
   "metadata": {},
   "outputs": [
    {
     "name": "stdout",
     "output_type": "stream",
     "text": [
      "Store with maximum profit in Q3’2012: Store 1\n"
     ]
    }
   ],
   "source": [
    "qtr_profits =[]\n",
    "for store in range(1,int(total_stores)+1):\n",
    "    values = df[(df['Store']==store) & (df['Date']> '2012-06-01') & (df['Date']<'2012-09-01')]['Weekly_Sales'].values\n",
    "    qtr_profits.append(np.mean(values))\n",
    "    \n",
    "print(\"Store with maximum profit in Q3’2012: Store\",qtr_profits.index(max(qtr_profits))+1)"
   ]
  },
  {
   "cell_type": "markdown",
   "metadata": {},
   "source": [
    "## Are more products sold in hotter weather?\n",
    "\n",
    "\n",
    "Let's find an answer using CDFs (cumulative distribution functions) and correlations. We will use CDF as we are analyzing a general distribution."
   ]
  },
  {
   "cell_type": "markdown",
   "metadata": {},
   "source": [
    "## Defining CDF"
   ]
  },
  {
   "cell_type": "code",
   "execution_count": 129,
   "metadata": {},
   "outputs": [
    {
     "data": {
      "text/plain": [
       "<matplotlib.legend.Legend at 0x1caa586bcd0>"
      ]
     },
     "execution_count": 129,
     "metadata": {},
     "output_type": "execute_result"
    },
    {
     "data": {
      "image/png": "[encoded data removed]",
      "text/plain": [
       "<Figure size 1440x432 with 1 Axes>"
      ]
     },
     "metadata": {},
     "output_type": "display_data"
    }
   ],
   "source": [
    "def EvalCdf(sample, x):\n",
    "    count = 0\n",
    "    for i in sample:\n",
    "        if i <= x:\n",
    "            count += 1\n",
    "    prob = count / len(sample)\n",
    "    return prob\n",
    "\n",
    "# assuming that the temperature is in degree farenheight\n",
    "\n",
    "temp3 = df[df.Temperature <= 25.0]\n",
    "temp3_sales = sorted(temp3.Weekly_Sales.values / 10**6)\n",
    "temp3_sales_cdf = [EvalCdf(temp3_sales, x) for x in temp3_sales]\n",
    "\n",
    "temp4 = df[df.Temperature >= 55.0]\n",
    "temp4_sales = sorted(temp4.Weekly_Sales.values / 10**6)\n",
    "temp4_sales_cdf = [EvalCdf(temp4_sales, x) for x in temp4_sales]\n",
    "\n",
    "temp5 = df[df.Temperature >= 95.0]\n",
    "temp5_sales = sorted(temp5.Weekly_Sales.values / 10**6)\n",
    "temp5_sales_cdf = [EvalCdf(temp5_sales, x) for x in temp5_sales]\n",
    "\n",
    "plt.figure(figsize = (20, 6))\n",
    "\n",
    "plt.xlabel('weekly sales in million unit')\n",
    "plt.ylabel('CDF')\n",
    "plt.plot(temp3_sales, temp3_sales_cdf, label = 'Temperature <= 25.0')\n",
    "plt.plot(temp4_sales, temp4_sales_cdf, label = 'Temperature >= 55.0')\n",
    "plt.plot(temp5_sales, temp5_sales_cdf, label = 'Temperature >= 95.0')\n",
    "\n",
    "plt.legend()"
   ]
  },
  {
   "cell_type": "markdown",
   "metadata": {},
   "source": [
    "What does the graph depict?\n",
    "\n",
    "The moderate climate is more preferable for selling huge amounts of goods."
   ]
  },
  {
   "cell_type": "markdown",
   "metadata": {},
   "source": [
    "## Sales with and without holidays"
   ]
  },
  {
   "cell_type": "code",
   "execution_count": 130,
   "metadata": {
    "scrolled": true
   },
   "outputs": [
    {
     "data": {
      "text/plain": [
       "<matplotlib.legend.Legend at 0x1caa58d72b0>"
      ]
     },
     "execution_count": 130,
     "metadata": {},
     "output_type": "execute_result"
    },
    {
     "data": {
      "image/png": "[encoded data removed]",
      "text/plain": [
       "<Figure size 1440x432 with 1 Axes>"
      ]
     },
     "metadata": {},
     "output_type": "display_data"
    }
   ],
   "source": [
    "temp3 = df.query('Temperature >= 55.0 and Holiday_Flag == 0')\n",
    "temp3_sales = sorted(temp3.Weekly_Sales.values / 10**6)\n",
    "temp3_sales_cdf = [EvalCdf(temp3_sales, x) for x in temp3_sales]\n",
    "\n",
    "temp4 = df.query('Temperature >= 55.0 and Holiday_Flag == 1')\n",
    "temp4_sales = sorted(temp4.Weekly_Sales.values / 10**6)\n",
    "temp4_sales_cdf = [EvalCdf(temp4_sales, x) for x in temp4_sales]\n",
    "\n",
    "plt.figure(figsize = (20, 6))\n",
    "\n",
    "plt.xlabel('weekly sales in million unit')\n",
    "plt.ylabel('CDF')\n",
    "plt.plot(temp3_sales, temp3_sales_cdf, label = 'No holiday')\n",
    "plt.plot(temp4_sales, temp4_sales_cdf, label = 'Holiday')\n",
    "\n",
    "plt.legend()"
   ]
  },
  {
   "cell_type": "markdown",
   "metadata": {},
   "source": [
    "### Holidays which have higher sales than the mean sales in non-holiday season for all stores together"
   ]
  },
  {
   "cell_type": "code",
   "execution_count": 131,
   "metadata": {
    "scrolled": true
   },
   "outputs": [
    {
     "name": "stdout",
     "output_type": "stream",
     "text": [
      "            Weekly_Sales\n",
      "Date                    \n",
      "10/2/2012   1.111320e+06\n",
      "11/2/2011   1.051915e+06\n",
      "12/2/2010   1.074148e+06\n",
      "25-11-2011  1.479858e+06\n",
      "26-11-2010  1.462689e+06\n",
      "7/9/2012    1.074001e+06\n"
     ]
    }
   ],
   "source": [
    "non_holiday_sales = df[df['Holiday_Flag']==0]['Weekly_Sales'].mean()\n",
    "df_v1 = pd.DataFrame(df[df['Holiday_Flag']==1].groupby('Date')['Weekly_Sales'].mean())\n",
    "print(df_v1[df_v1['Weekly_Sales'] > non_holiday_sales])"
   ]
  },
  {
   "cell_type": "markdown",
   "metadata": {},
   "source": [
    "### Which store has highest sales in holiday?"
   ]
  },
  {
   "cell_type": "code",
   "execution_count": 281,
   "metadata": {},
   "outputs": [
    {
     "data": {
      "text/plain": [
       "<matplotlib.axes._subplots.AxesSubplot at 0x1caa96d30a0>"
      ]
     },
     "execution_count": 281,
     "metadata": {},
     "output_type": "execute_result"
    },
    {
     "data": {
      "image/png": "[encoded data removed]",
      "text/plain": [
       "<Figure size 432x288 with 1 Axes>"
      ]
     },
     "metadata": {},
     "output_type": "display_data"
    }
   ],
   "source": [
    "#Converting date column to datetime type\n",
    "df['Date'] = pd.to_datetime(df['Date'])\n",
    "df['year'] = pd.DatetimeIndex(df['Date']).year\n",
    "df['month'] = pd.DatetimeIndex(df['Date']).month\n",
    "\n",
    "df_v1 = df[(df['Holiday_Flag'] == 1)&(df['year']==2011) ]\n",
    "df_v1.groupby('Store')['Weekly_Sales'].sum().sort_values(ascending = False).head(10).plot.bar(color='violet', title = 'Store Vs Weekly_Sales for 2011')"
   ]
  },
  {
   "cell_type": "markdown",
   "metadata": {},
   "source": [
    "Clearly Store 4 has the highest weekly sales in the year 2011. We can check it similarly for the rest of the years."
   ]
  },
  {
   "cell_type": "markdown",
   "metadata": {},
   "source": [
    "## Defining correlation"
   ]
  },
  {
   "cell_type": "code",
   "execution_count": 133,
   "metadata": {},
   "outputs": [],
   "source": [
    "def de_mean(x):\n",
    "    x_bar = mean(x)\n",
    "    return [x_i - x_bar for x_i in x]\n",
    "\n",
    "def covariance(x, y):\n",
    "    n = len(x)\n",
    "    return np.dot(de_mean(x), de_mean(y)) / (n - 1)\n",
    "\n",
    "def correlation(x, y):\n",
    "    std_x = stdev(x)\n",
    "    std_y = stdev(y)\n",
    "    if std_x > 0 and std_y > 0:\n",
    "        return covariance(x, y) / std_x / std_y\n",
    "    else:\n",
    "        return 0\n",
    "    \n",
    "x = df.Unemployment.values\n",
    "y = df.Weekly_Sales.values\n",
    "z = df.CPI.values\n",
    "a = df.Fuel_Price.values\n",
    "b = df.Temperature.values"
   ]
  },
  {
   "cell_type": "code",
   "execution_count": 80,
   "metadata": {},
   "outputs": [
    {
     "data": {
      "text/plain": [
       "-0.0726341620401763"
      ]
     },
     "execution_count": 80,
     "metadata": {},
     "output_type": "execute_result"
    }
   ],
   "source": [
    "correlation(y, z)"
   ]
  },
  {
   "cell_type": "markdown",
   "metadata": {},
   "source": [
    "A negative correlation suggests the inverse realtionship between our variables."
   ]
  },
  {
   "cell_type": "markdown",
   "metadata": {},
   "source": [
    "The value of correlation coefficient lies between -1 to +1. The value of -1 and +1 indicates a strong perfect relation between the variables. As the value nears the 0, the relation becomes weaker. (+) sign indicates a positive relation and (-) sign indicates negative/inverse relation. "
   ]
  },
  {
   "cell_type": "markdown",
   "metadata": {},
   "source": [
    "## Correlation matrix"
   ]
  },
  {
   "cell_type": "markdown",
   "metadata": {},
   "source": [
    "checking if our correlation algorithm gives the same results as that of the correlation matrix"
   ]
  },
  {
   "cell_type": "code",
   "execution_count": 97,
   "metadata": {},
   "outputs": [
    {
     "data": {
      "image/png": "[encoded data removed]",
      "text/plain": [
       "<Figure size 864x720 with 2 Axes>"
      ]
     },
     "metadata": {},
     "output_type": "display_data"
    }
   ],
   "source": [
    "cor = df.corr()\n",
    "\n",
    "plt.figure(figsize=(12, 10))\n",
    "sns.heatmap(cor, annot=True, vmin=-1.0,)\n",
    "plt.show()"
   ]
  },
  {
   "cell_type": "markdown",
   "metadata": {},
   "source": [
    "## Predicting weekly sales for all the stores"
   ]
  },
  {
   "cell_type": "code",
   "execution_count": 282,
   "metadata": {},
   "outputs": [],
   "source": [
    "df['Day']=df['Date'].dt.day\n",
    "df = df.drop('Date',axis=1)\n",
    "\n",
    "df_v2 = pd.get_dummies(df, columns = ['Holiday_Flag','Store'])\n",
    "y = df_v2['Weekly_Sales']\n",
    "X= df_v2.drop('Weekly_Sales',axis=1)"
   ]
  },
  {
   "cell_type": "code",
   "execution_count": 135,
   "metadata": {},
   "outputs": [
    {
     "name": "stdout",
     "output_type": "stream",
     "text": [
      "r-squared value: 0.9281204155973687\n"
     ]
    }
   ],
   "source": [
    "# split data into 80% training and 20% test data\n",
    "X_train, X_test, y_train, y_test = train_test_split(X,y,test_size=0.2)\n",
    "\n",
    "ln_model = LinearRegression()\n",
    "ln_model.fit(X_train,y_train)\n",
    "y_pred = ln_model.predict(X_test)\n",
    "print(\"r-squared value:\",r2_score(y_test,y_pred))"
   ]
  },
  {
   "cell_type": "code",
   "execution_count": 75,
   "metadata": {},
   "outputs": [
    {
     "name": "stdout",
     "output_type": "stream",
     "text": [
      "r-squared value: 0.9204299347932319\n"
     ]
    }
   ],
   "source": [
    "# split data into 50% training and 50% test data\n",
    "X_train, X_test, y_train, y_test = train_test_split(X,y,test_size=0.5)\n",
    "\n",
    "ln_model = LinearRegression()\n",
    "ln_model.fit(X_train,y_train)\n",
    "y_pred = ln_model.predict(X_test)\n",
    "print(\"r-squared value:\",r2_score(y_test,y_pred))"
   ]
  },
  {
   "cell_type": "code",
   "execution_count": 76,
   "metadata": {},
   "outputs": [
    {
     "name": "stdout",
     "output_type": "stream",
     "text": [
      "r-squared value: 0.9158121927753616\n"
     ]
    }
   ],
   "source": [
    "# split data into 70% training and 30% test data\n",
    "X_train, X_test, y_train, y_test = train_test_split(X,y,test_size=0.3)\n",
    "\n",
    "ln_model = LinearRegression()\n",
    "ln_model.fit(X_train,y_train)\n",
    "y_pred = ln_model.predict(X_test)\n",
    "print(\"r-squared value:\",r2_score(y_test,y_pred))"
   ]
  },
  {
   "cell_type": "markdown",
   "metadata": {},
   "source": [
    "### Predicting whether the given sales record belongs to holiday or not"
   ]
  },
  {
   "cell_type": "code",
   "execution_count": 283,
   "metadata": {},
   "outputs": [],
   "source": [
    "#Splitting independent and dependent variables\n",
    "y = df['Holiday_Flag']\n",
    "X= df.drop('Holiday_Flag',axis=1)\n",
    "\n",
    "scaler = MinMaxScaler()\n",
    "X = scaler.fit_transform(X)"
   ]
  },
  {
   "cell_type": "code",
   "execution_count": 137,
   "metadata": {},
   "outputs": [],
   "source": [
    "X_train, X_test, y_train, y_test = train_test_split(X,y,train_size=0.5)"
   ]
  },
  {
   "cell_type": "code",
   "execution_count": 138,
   "metadata": {},
   "outputs": [],
   "source": [
    "penalty = [\"l1\",\"l2\"]\n",
    "c = np.logspace(0,8,10)\n",
    "hyperparameters = dict(C=c, penalty=penalty, solver =['liblinear'])"
   ]
  },
  {
   "cell_type": "code",
   "execution_count": 139,
   "metadata": {},
   "outputs": [
    {
     "name": "stdout",
     "output_type": "stream",
     "text": [
      "Best hyperparameters :  {'C': 59.94842503189409, 'penalty': 'l1', 'solver': 'liblinear'}\n"
     ]
    }
   ],
   "source": [
    "model = LogisticRegression()\n",
    "clf = GridSearchCV(model,hyperparameters, cv = 10 , verbose = 0)\n",
    "best_model = clf.fit(X_train,y_train)\n",
    "print(\"Best hyperparameters : \",best_model.best_params_)"
   ]
  },
  {
   "cell_type": "code",
   "execution_count": 140,
   "metadata": {},
   "outputs": [
    {
     "name": "stdout",
     "output_type": "stream",
     "text": [
      "[0 0 0 ... 0 0 0]\n"
     ]
    }
   ],
   "source": [
    "y_pred = best_model.predict(X_test)\n",
    "print(y_pred)"
   ]
  },
  {
   "cell_type": "code",
   "execution_count": 142,
   "metadata": {},
   "outputs": [
    {
     "name": "stdout",
     "output_type": "stream",
     "text": [
      "0.9331883157240523\n"
     ]
    }
   ],
   "source": [
    "print(best_model.score(X_test,y_test))"
   ]
  },
  {
   "cell_type": "code",
   "execution_count": 147,
   "metadata": {},
   "outputs": [
    {
     "name": "stdout",
     "output_type": "stream",
     "text": [
      "[[2976  203]\n",
      " [  12   27]]\n"
     ]
    }
   ],
   "source": [
    "confusion_matrix = confusion_matrix(y_pred,y_test)\n",
    "print(confusion_matrix)"
   ]
  },
  {
   "cell_type": "code",
   "execution_count": 148,
   "metadata": {},
   "outputs": [
    {
     "data": {
      "text/plain": [
       "0.6923076923076923"
      ]
     },
     "execution_count": 148,
     "metadata": {},
     "output_type": "execute_result"
    }
   ],
   "source": [
    "# Finding precision and recall\n",
    "from sklearn.metrics import precision_score, recall_score\n",
    "precision_score(y_pred, y_test)\n",
    "recall_score(y_pred, y_test)"
   ]
  },
  {
   "cell_type": "code",
   "execution_count": 149,
   "metadata": {},
   "outputs": [
    {
     "data": {
      "text/plain": [
       "0.2007434944237918"
      ]
     },
     "execution_count": 149,
     "metadata": {},
     "output_type": "execute_result"
    }
   ],
   "source": [
    "# To compute the F1 score, simply call the f1_score() function:\n",
    "from sklearn.metrics import f1_score\n",
    "f1_score(y_pred, y_test)"
   ]
  },
  {
   "cell_type": "markdown",
   "metadata": {},
   "source": [
    "The data is seasonal and usually takes a peak around December . Let's check out why December is when the sales are the highest in every store ....\n",
    "\n",
    "For the rest of the stores, each one have different sales record but seasonality is pretty much the same so same model will work for each of the store."
   ]
  },
  {
   "cell_type": "markdown",
   "metadata": {},
   "source": [
    "since this is seasonal Data Arima Model should work¶"
   ]
  },
  {
   "cell_type": "code",
   "execution_count": 169,
   "metadata": {},
   "outputs": [],
   "source": [
    "# Working with the store 1 here....\n",
    "store1=df[df['Store']==1][['Date','Weekly_Sales']]\n",
    "store1=store1.set_index('Date')"
   ]
  },
  {
   "cell_type": "code",
   "execution_count": 171,
   "metadata": {},
   "outputs": [
    {
     "name": "stderr",
     "output_type": "stream",
     "text": [
      "C:\\Users\\mpate\\Anaconda\\lib\\site-packages\\statsmodels\\tsa\\base\\tsa_model.py:216: ValueWarning:\n",
      "\n",
      "A date index has been provided, but it has no associated frequency information and so will be ignored when e.g. forecasting.\n",
      "\n",
      "C:\\Users\\mpate\\Anaconda\\lib\\site-packages\\statsmodels\\tsa\\base\\tsa_model.py:220: ValueWarning:\n",
      "\n",
      "A date index has been provided, but it is not monotonic and so will be ignored when e.g. forecasting.\n",
      "\n",
      "C:\\Users\\mpate\\Anaconda\\lib\\site-packages\\statsmodels\\tsa\\base\\tsa_model.py:216: ValueWarning:\n",
      "\n",
      "A date index has been provided, but it has no associated frequency information and so will be ignored when e.g. forecasting.\n",
      "\n",
      "C:\\Users\\mpate\\Anaconda\\lib\\site-packages\\statsmodels\\tsa\\base\\tsa_model.py:220: ValueWarning:\n",
      "\n",
      "A date index has been provided, but it is not monotonic and so will be ignored when e.g. forecasting.\n",
      "\n"
     ]
    },
    {
     "name": "stdout",
     "output_type": "stream",
     "text": [
      "                             ARIMA Model Results                              \n",
      "==============================================================================\n",
      "Dep. Variable:         D.Weekly_Sales   No. Observations:                  142\n",
      "Model:                 ARIMA(5, 1, 0)   Log Likelihood               -1893.251\n",
      "Method:                       css-mle   S.D. of innovations         148809.032\n",
      "Date:                Tue, 15 Dec 2020   AIC                           3800.503\n",
      "Time:                        12:52:46   BIC                           3821.194\n",
      "Sample:                             1   HQIC                          3808.911\n",
      "                                                                              \n",
      "========================================================================================\n",
      "                           coef    std err          z      P>|z|      [0.025      0.975]\n",
      "----------------------------------------------------------------------------------------\n",
      "const                -1056.5574   5470.152     -0.193      0.847   -1.18e+04    9664.743\n",
      "ar.L1.D.Weekly_Sales    -0.4773      0.083     -5.773      0.000      -0.639      -0.315\n",
      "ar.L2.D.Weekly_Sales    -0.4054      0.091     -4.432      0.000      -0.585      -0.226\n",
      "ar.L3.D.Weekly_Sales    -0.3420      0.094     -3.656      0.000      -0.525      -0.159\n",
      "ar.L4.D.Weekly_Sales     0.0788      0.092      0.860      0.390      -0.101       0.258\n",
      "ar.L5.D.Weekly_Sales    -0.1595      0.083     -1.933      0.053      -0.321       0.002\n",
      "                                    Roots                                    \n",
      "=============================================================================\n",
      "                  Real          Imaginary           Modulus         Frequency\n",
      "-----------------------------------------------------------------------------\n",
      "AR.1           -1.1531           -0.0000j            1.1531           -0.5000\n",
      "AR.2           -0.2105           -1.2801j            1.2973           -0.2759\n",
      "AR.3           -0.2105           +1.2801j            1.2973            0.2759\n",
      "AR.4            1.0340           -1.4703j            1.7975           -0.1525\n",
      "AR.5            1.0340           +1.4703j            1.7975            0.1525\n",
      "-----------------------------------------------------------------------------\n"
     ]
    },
    {
     "data": {
      "image/png": "[encoded data removed]",
      "text/plain": [
       "<Figure size 432x288 with 1 Axes>"
      ]
     },
     "metadata": {},
     "output_type": "display_data"
    },
    {
     "data": {
      "image/png": "[encoded data removed]",
      "text/plain": [
       "<Figure size 432x288 with 1 Axes>"
      ]
     },
     "metadata": {},
     "output_type": "display_data"
    },
    {
     "name": "stdout",
     "output_type": "stream",
     "text": [
      "                   0\n",
      "count     142.000000\n",
      "mean      707.175163\n",
      "std    149548.586210\n",
      "min   -543118.152895\n",
      "25%    -73264.565405\n",
      "50%     -4764.041904\n",
      "75%     59829.519148\n",
      "max    520456.911635\n"
     ]
    }
   ],
   "source": [
    "model = ARIMA(store1, order=(5,1,0))\n",
    "model_fit = model.fit(disp=0)\n",
    "print(model_fit.summary())\n",
    "# plot residual errors\n",
    "residuals = DataFrame(model_fit.resid)\n",
    "residuals.plot()\n",
    "plt.xticks(rotation=90)\n",
    "plt.show()\n",
    "residuals.plot(kind='kde')\n",
    "plt.show()\n",
    "print(residuals.describe())"
   ]
  },
  {
   "cell_type": "code",
   "execution_count": 120,
   "metadata": {},
   "outputs": [
    {
     "name": "stdout",
     "output_type": "stream",
     "text": [
      "predicted=1565548.024948, expected=2033320.660000\n",
      "predicted=2024730.812096, expected=1584083.950000\n",
      "predicted=1698259.858503, expected=1799682.380000\n",
      "predicted=1763535.676157, expected=1881176.670000\n",
      "predicted=2104708.807566, expected=2270188.990000\n",
      "predicted=2003349.723421, expected=1497462.720000\n",
      "predicted=1878395.822577, expected=1550369.920000\n",
      "predicted=1750347.243278, expected=1459601.170000\n",
      "predicted=1592189.366989, expected=1394393.840000\n",
      "predicted=1114299.394986, expected=1319325.590000\n",
      "predicted=1318767.180961, expected=1636339.650000\n",
      "predicted=1480381.964373, expected=1802477.430000\n",
      "predicted=1467779.359072, expected=1819870.000000\n",
      "predicted=1820975.090314, expected=1539387.830000\n",
      "predicted=1720858.665067, expected=1688420.760000\n",
      "predicted=1732199.474025, expected=1675431.160000\n",
      "predicted=1725402.466525, expected=1677472.780000\n",
      "predicted=1664893.111928, expected=1511068.070000\n",
      "predicted=1644126.942950, expected=1649604.630000\n",
      "predicted=1585327.304015, expected=1899676.880000\n",
      "predicted=1797272.467432, expected=1621031.700000\n",
      "predicted=1653480.287604, expected=1521577.870000\n",
      "predicted=1592207.759365, expected=1468928.370000\n",
      "predicted=1580922.782424, expected=1684519.990000\n",
      "predicted=1484388.665512, expected=1611096.050000\n",
      "predicted=1627425.285244, expected=1595901.870000\n",
      "predicted=1601515.682619, expected=1555444.550000\n",
      "predicted=1570131.250483, expected=1624477.580000\n",
      "predicted=1562271.949037, expected=1697230.960000\n",
      "predicted=1686845.317260, expected=1630607.000000\n",
      "predicted=1680474.672219, expected=1527845.810000\n",
      "predicted=1554746.021105, expected=1540421.490000\n",
      "predicted=1568272.374652, expected=1769854.160000\n",
      "predicted=1699393.643920, expected=1527014.040000\n",
      "predicted=1548481.938774, expected=1497954.760000\n",
      "predicted=1507649.963512, expected=1439123.710000\n",
      "predicted=1531002.232790, expected=1631135.790000\n",
      "predicted=1463418.280374, expected=1592409.970000\n",
      "predicted=1592749.431622, expected=1597868.050000\n",
      "predicted=1599023.190654, expected=1494122.380000\n",
      "predicted=1535649.752480, expected=1582083.400000\n",
      "predicted=1555370.002216, expected=1661767.330000\n",
      "predicted=1658506.499267, expected=1517428.870000\n",
      "predicted=1544353.683925, expected=1506126.060000\n",
      "predicted=1528752.975519, expected=1437059.260000\n",
      "predicted=1487469.840262, expected=1670785.970000\n",
      "predicted=1540449.890328, expected=1573072.810000\n",
      "predicted=1606883.886530, expected=1508068.770000\n",
      "predicted=1488634.415481, expected=1493659.740000\n",
      "Test MSE: 38266027526.863\n"
     ]
    }
   ],
   "source": [
    "X = store1.values\n",
    "size = int(len(X) * 0.66)\n",
    "train, test = X[0:size], X[size:len(X)]\n",
    "history = [x for x in train]\n",
    "predictions = list()\n",
    "for t in range(len(test)):\n",
    "    model = ARIMA(history, order=(6,2,0))\n",
    "    model_fit = model.fit(disp=0)\n",
    "    output = model_fit.forecast()\n",
    "    yhat = output[0]\n",
    "    predictions.append(yhat)\n",
    "    obs = test[t]\n",
    "    history.append(obs)\n",
    "    print('predicted=%f, expected=%f' % (yhat, obs))\n",
    "error = mean_squared_error(test, predictions)\n",
    "print('Test MSE: %.3f' % error)"
   ]
  },
  {
   "cell_type": "code",
   "execution_count": 129,
   "metadata": {},
   "outputs": [
    {
     "data": {
      "image/png": "[encoded data removed]",
      "text/plain": [
       "<Figure size 432x288 with 1 Axes>"
      ]
     },
     "metadata": {},
     "output_type": "display_data"
    }
   ],
   "source": [
    "# Plotting the Graph\n",
    "plt.plot(test)\n",
    "plt.plot(predictions, color='blue')\n",
    "red_patch = mpatches.Patch(color='red', label='The predicted data')\n",
    "blue_patch = mpatches.Patch(color='blue', label='The expected data')\n",
    "plt.legend(handles=[blue_patch,red_patch])\n",
    "plt.show()"
   ]
  },
  {
   "cell_type": "markdown",
   "metadata": {},
   "source": [
    "Over here the red lines is the predicted values and the blue line is the expected lines that we needed .... Close enough ....\n",
    "\n",
    "Now let's try linear regression model. Since we can't use Date directly in linear regression, I will seperate the data column\n"
   ]
  },
  {
   "cell_type": "markdown",
   "metadata": {},
   "source": [
    "### Trying out Linear Regression on the data"
   ]
  },
  {
   "cell_type": "code",
   "execution_count": 100,
   "metadata": {},
   "outputs": [],
   "source": [
    "# define store 1 again since we changed data\n",
    "store1=df[df['Store']==1]"
   ]
  },
  {
   "cell_type": "code",
   "execution_count": 101,
   "metadata": {},
   "outputs": [],
   "source": [
    "X=store1.drop(columns=['Weekly_Sales'],axis=1).values\n",
    "y=store1['Weekly_Sales'].values"
   ]
  },
  {
   "cell_type": "code",
   "execution_count": 116,
   "metadata": {},
   "outputs": [],
   "source": [
    "# 20% test data and 80%train data\n",
    "X_train, X_test, y_train, y_test = train_test_split(X, y, test_size=0.2, random_state=42)\n",
    "reg=LinearRegression()"
   ]
  },
  {
   "cell_type": "code",
   "execution_count": 117,
   "metadata": {},
   "outputs": [
    {
     "data": {
      "text/plain": [
       "LinearRegression()"
      ]
     },
     "execution_count": 117,
     "metadata": {},
     "output_type": "execute_result"
    }
   ],
   "source": [
    "reg.fit(X_train,y_train)"
   ]
  },
  {
   "cell_type": "code",
   "execution_count": 118,
   "metadata": {},
   "outputs": [],
   "source": [
    "pred=reg.predict(X_test)"
   ]
  },
  {
   "cell_type": "code",
   "execution_count": 119,
   "metadata": {},
   "outputs": [
    {
     "name": "stdout",
     "output_type": "stream",
     "text": [
      "the score using the model is : 15838677612.67665\n"
     ]
    }
   ],
   "source": [
    "print('the score using the model is :',mean_squared_error(y_test,pred))"
   ]
  },
  {
   "cell_type": "code",
   "execution_count": 110,
   "metadata": {},
   "outputs": [],
   "source": [
    "# 50% test data and 50% train data\n",
    "X_train, X_test, y_train, y_test = train_test_split(X, y, test_size=0.5, random_state=42)\n",
    "reg=LinearRegression()"
   ]
  },
  {
   "cell_type": "code",
   "execution_count": 107,
   "metadata": {},
   "outputs": [
    {
     "data": {
      "text/plain": [
       "LinearRegression()"
      ]
     },
     "execution_count": 107,
     "metadata": {},
     "output_type": "execute_result"
    }
   ],
   "source": [
    "reg.fit(X_train,y_train)"
   ]
  },
  {
   "cell_type": "code",
   "execution_count": 108,
   "metadata": {},
   "outputs": [],
   "source": [
    "pred=reg.predict(X_test)"
   ]
  },
  {
   "cell_type": "code",
   "execution_count": 109,
   "metadata": {},
   "outputs": [
    {
     "name": "stdout",
     "output_type": "stream",
     "text": [
      "the score using the model is : 21345791897.380997\n"
     ]
    }
   ],
   "source": [
    "print('the score using the model is :',mean_squared_error(y_test,pred))"
   ]
  },
  {
   "cell_type": "markdown",
   "metadata": {},
   "source": [
    "#### Well we got a better score than arima here ! But still not a good fit. Keep looking..."
   ]
  },
  {
   "cell_type": "markdown",
   "metadata": {},
   "source": [
    "### Splitting/Scaling"
   ]
  },
  {
   "cell_type": "code",
   "execution_count": null,
   "metadata": {},
   "outputs": [],
   "source": [
    "y = df['Holiday_Flag'].copy()\n",
    "X = df.drop('Holiday_Flag', axis=1).copy()\n",
    "\n",
    "scaler = StandardScaler()\n",
    "\n",
    "X = scaler.fit_transform(X)\n",
    "\n",
    "X_train, X_test, y_train, y_test = train_test_split(X, y, train_size=0.7)"
   ]
  },
  {
   "cell_type": "markdown",
   "metadata": {},
   "source": [
    "### Modeling and Training"
   ]
  },
  {
   "cell_type": "code",
   "execution_count": 198,
   "metadata": {},
   "outputs": [],
   "source": [
    "logistic_model = LogisticRegression()\n",
    "svm_model = SVC()\n",
    "dec_model = DecisionTreeClassifier()"
   ]
  },
  {
   "cell_type": "code",
   "execution_count": 199,
   "metadata": {},
   "outputs": [
    {
     "name": "stdout",
     "output_type": "stream",
     "text": [
      "Models trained\n"
     ]
    }
   ],
   "source": [
    "logistic_model.fit(X_train, y_train)\n",
    "svm_model.fit(X_train, y_train)\n",
    "dec_model.fit(X_train, y_train)\n",
    "\n",
    "print(\"Models trained\")"
   ]
  },
  {
   "cell_type": "markdown",
   "metadata": {},
   "source": [
    "#### results"
   ]
  },
  {
   "cell_type": "code",
   "execution_count": 201,
   "metadata": {
    "scrolled": true
   },
   "outputs": [
    {
     "name": "stdout",
     "output_type": "stream",
     "text": [
      "   Logistic Regression Accuracy: 0.9264629725530813\n",
      "Support Vector Machine Accuracy: 0.9451061626100467\n",
      "         Decision Tree Accuracy: 0.9979285344381149\n"
     ]
    }
   ],
   "source": [
    "print(\"   Logistic Regression Accuracy:\", logistic_model.score(X_test, y_test))\n",
    "print(\"Support Vector Machine Accuracy:\", svm_model.score(X_test, y_test))\n",
    "print(\"         Decision Tree Accuracy:\", dec_model.score(X_test, y_test))"
   ]
  },
  {
   "cell_type": "markdown",
   "metadata": {},
   "source": [
    "Whoa! Looks like we got the most accurate results from Desicion Tree model with a 99.79% accuracy! All of the accuracies are above 90% which says our model was trained nicely. But Decision Tree did exceptionally well with the accurate result."
   ]
  },
  {
   "cell_type": "markdown",
   "metadata": {},
   "source": [
    "Some more models...KNeighborsRegressor, RandomForestRegressor, ExtraTreesRegressor"
   ]
  },
  {
   "cell_type": "code",
   "execution_count": 343,
   "metadata": {},
   "outputs": [],
   "source": [
    "X_train,X_test,y_train,y_test=train_test_split( X, y, test_size=0.20, random_state=0)"
   ]
  },
  {
   "cell_type": "code",
   "execution_count": 344,
   "metadata": {},
   "outputs": [],
   "source": [
    "from sklearn.preprocessing import StandardScaler\n",
    "sc_X = StandardScaler()\n",
    "X_train = sc_X.fit_transform(X_train)\n",
    "X_test = sc_X.transform(X_test)"
   ]
  },
  {
   "cell_type": "code",
   "execution_count": 331,
   "metadata": {},
   "outputs": [],
   "source": [
    "import sklearn.metrics as metrics\n",
    "from sklearn.metrics import mean_absolute_error\n",
    "from sklearn.neighbors import KNeighborsRegressor\n",
    "knn = KNeighborsRegressor(n_neighbors=10,n_jobs=4)\n",
    "knn.fit(X_train,y_train)\n",
    "y_pred = knn.predict(X_test)"
   ]
  },
  {
   "cell_type": "code",
   "execution_count": 332,
   "metadata": {},
   "outputs": [
    {
     "name": "stdout",
     "output_type": "stream",
     "text": [
      "0.08725718725718727\n",
      "0.04174825174825175\n",
      "0.3304948395716747\n"
     ]
    }
   ],
   "source": [
    "print(metrics.mean_absolute_error(y_test, y_pred))\n",
    "print(metrics.mean_squared_error(y_test, y_pred))\n",
    "accuracy = knn.score(X_test, y_test)\n",
    "print(accuracy)"
   ]
  },
  {
   "cell_type": "code",
   "execution_count": 333,
   "metadata": {},
   "outputs": [],
   "source": [
    "from sklearn.ensemble import RandomForestRegressor\n",
    "# After Hyper-parameter tunning \n",
    "rfr = RandomForestRegressor(n_estimators = 400,max_depth=15,n_jobs=5)        \n",
    "rfr.fit(X_train,y_train)\n",
    "y_pred=rfr.predict(X_test)"
   ]
  },
  {
   "cell_type": "code",
   "execution_count": 334,
   "metadata": {},
   "outputs": [
    {
     "name": "stdout",
     "output_type": "stream",
     "text": [
      "0.0005963480963480962\n",
      "4.037975912975912e-05\n",
      "0.9993524409769959\n"
     ]
    }
   ],
   "source": [
    "print(metrics.mean_absolute_error(y_test, y_pred))\n",
    "print(metrics.mean_squared_error(y_test, y_pred))\n",
    "accuracy = rfr.score(X_test, y_test)\n",
    "print(accuracy)"
   ]
  },
  {
   "cell_type": "code",
   "execution_count": 347,
   "metadata": {},
   "outputs": [],
   "source": [
    "from sklearn.ensemble import ExtraTreesRegressor\n",
    "etr = ExtraTreesRegressor(n_estimators=30,n_jobs=4) \n",
    "etr.fit(X_train,y_train)\n",
    "y_pred=etr.predict(X_test)"
   ]
  },
  {
   "cell_type": "code",
   "execution_count": 348,
   "metadata": {
    "scrolled": false
   },
   "outputs": [
    {
     "name": "stdout",
     "output_type": "stream",
     "text": [
      "0.001243201243201243\n",
      "9.669343002676333e-05\n",
      "0.9984493542203203\n"
     ]
    }
   ],
   "source": [
    "print(metrics.mean_absolute_error(y_test, y_pred))\n",
    "print(metrics.mean_squared_error(y_test, y_pred))\n",
    "accuracy = etr.score(X_test, y_test)\n",
    "print(accuracy)"
   ]
  },
  {
   "cell_type": "markdown",
   "metadata": {},
   "source": [
    "## A table with all the model accuracy summary"
   ]
  },
  {
   "cell_type": "code",
   "execution_count": 307,
   "metadata": {
    "scrolled": true
   },
   "outputs": [
    {
     "name": "stdout",
     "output_type": "stream",
     "text": [
      "+------------------------+----------+\n",
      "|         Model          | Accuracy |\n",
      "+------------------------+----------+\n",
      "|  Logistic Regression   |  92.64   |\n",
      "|      KNNRegressor      |  33.05   |\n",
      "|     Decision Tree      |  99.79   |\n",
      "| RandomForestRegressor  |  99.92   |\n",
      "|   ExtraTreeRegressor   |  99.89   |\n",
      "| Support Vector Machine |  94.51   |\n",
      "+------------------------+----------+\n"
     ]
    }
   ],
   "source": [
    "from prettytable import PrettyTable\n",
    "    \n",
    "x = PrettyTable()\n",
    "x.field_names = [\"Model\", \"Accuracy\"]\n",
    "x.add_row([\"Logistic Regression\", 92.64])\n",
    "x.add_row([\"KNNRegressor\", 33.05])\n",
    "x.add_row([\"Decision Tree\", 99.79])\n",
    "x.add_row([\"RandomForestRegressor\", 99.92])\n",
    "x.add_row([\"ExtraTreeRegressor\", 99.89])\n",
    "x.add_row([\"Support Vector Machine\",94.51 ])\n",
    "print(x)"
   ]
  },
  {
   "cell_type": "markdown",
   "metadata": {},
   "source": [
    "## Getting averages of the best models"
   ]
  },
  {
   "cell_type": "code",
   "execution_count": 357,
   "metadata": {},
   "outputs": [],
   "source": [
    "etr = ExtraTreesRegressor(n_estimators=30,n_jobs=4) \n",
    "rfr = RandomForestRegressor(n_estimators = 400,max_depth=15,n_jobs=4)\n",
    "svm = SVC()\n",
    "dec = DecisionTreeClassifier()\n",
    "\n",
    "etr.fit(X_train,y_train)\n",
    "rfr.fit(X_train,y_train)\n",
    "svm.fit(X_train, y_train)\n",
    "dec.fit(X_train, y_train)\n",
    "\n",
    "etr_pred=etr.predict(X_test)\n",
    "svm_pred=svm.predict(X_test)\n",
    "dec_pred=dec.predict(X_test)\n",
    "rfr_pred=rfr.predict(X_test)"
   ]
  },
  {
   "cell_type": "code",
   "execution_count": 358,
   "metadata": {},
   "outputs": [],
   "source": [
    "final = (etr_pred + rfr_pred + svm_pred + dec_pred)/4.0"
   ]
  },
  {
   "cell_type": "code",
   "execution_count": 364,
   "metadata": {},
   "outputs": [
    {
     "name": "stdout",
     "output_type": "stream",
     "text": [
      "0.011246114996114996\n",
      "0.002787999115082449\n",
      "0.052801506750115086\n"
     ]
    }
   ],
   "source": [
    "print(metrics.mean_absolute_error(y_test, final))\n",
    "print(metrics.mean_squared_error(y_test, final))\n",
    "print(np.sqrt(metrics.mean_squared_error(y_test, final)))"
   ]
  },
  {
   "cell_type": "markdown",
   "metadata": {},
   "source": [
    "Errors here are much low as compared to any individual model. Looks like getting average gives the best results and helps in reducing loss."
   ]
  },
  {
   "cell_type": "markdown",
   "metadata": {},
   "source": [
    "# Conclusion"
   ]
  },
  {
   "cell_type": "markdown",
   "metadata": {},
   "source": [
    "In conclusion, we gathered the data of how holidays impact the sales. Sales weighted five times higher during the week of four most renown holidays: Thanksgiving, Christmas, Labor Day and Super Bowl.\n",
    "When it comes to predicting the model for sales and demand, the best model so far to predict Walmart’s sales and demand criteria is Random Forest Regressor.\n",
    "However rather than operating with individual models, this trick of simply averaging may reduce the loss to a great extent. Especially when we have the data of 20,000 Walmart stores from all across the countries!\n"
   ]
  }
 ],
 "metadata": {
  "kernelspec": {
   "display_name": "Python 3",
   "language": "python",
   "name": "python3"
  },
  "language_info": {
   "codemirror_mode": {
    "name": "ipython",
    "version": 3
   },
   "file_extension": ".py",
   "mimetype": "text/x-python",
   "name": "python",
   "nbconvert_exporter": "python",
   "pygments_lexer": "ipython3",
   "version": "3.8.3"
  }
 },
 "nbformat": 4,
 "nbformat_minor": 4
}
